{
 "cells": [
  {
   "cell_type": "code",
   "execution_count": 1,
   "id": "14dcf54b",
   "metadata": {},
   "outputs": [],
   "source": [
    "import pandas as pd\n",
    "import numpy as np"
   ]
  },
  {
   "cell_type": "markdown",
   "id": "dc694b2d",
   "metadata": {},
   "source": [
    "# DATOS DE CLIENTES"
   ]
  },
  {
   "cell_type": "markdown",
   "id": "fdbea585",
   "metadata": {},
   "source": [
    "#### Carga de datos"
   ]
  },
  {
   "cell_type": "code",
   "execution_count": 2,
   "id": "4740e180",
   "metadata": {},
   "outputs": [
    {
     "name": "stdout",
     "output_type": "stream",
     "text": [
      "<class 'pandas.core.frame.DataFrame'>\n",
      "RangeIndex: 31248 entries, 0 to 31247\n",
      "Data columns (total 4 columns):\n",
      " #   Column     Non-Null Count  Dtype \n",
      "---  ------     --------------  ----- \n",
      " 0   IDCLIENTE  31248 non-null  int64 \n",
      " 1   SEGMENTO   31248 non-null  object\n",
      " 2   EDAD       31248 non-null  object\n",
      " 3   PRODUCTO   31248 non-null  object\n",
      "dtypes: int64(1), object(3)\n",
      "memory usage: 976.6+ KB\n"
     ]
    }
   ],
   "source": [
    "clientes = pd.read_csv(\"raw-data/CLIENTES.csv\", sep=\",\")\n",
    "clientes.info()"
   ]
  },
  {
   "cell_type": "markdown",
   "id": "090aa836",
   "metadata": {},
   "source": [
    "#### Revisar duplicidad"
   ]
  },
  {
   "cell_type": "code",
   "execution_count": 3,
   "id": "2554b383",
   "metadata": {},
   "outputs": [
    {
     "data": {
      "text/html": [
       "<div>\n",
       "<style scoped>\n",
       "    .dataframe tbody tr th:only-of-type {\n",
       "        vertical-align: middle;\n",
       "    }\n",
       "\n",
       "    .dataframe tbody tr th {\n",
       "        vertical-align: top;\n",
       "    }\n",
       "\n",
       "    .dataframe thead th {\n",
       "        text-align: right;\n",
       "    }\n",
       "</style>\n",
       "<table border=\"1\" class=\"dataframe\">\n",
       "  <thead>\n",
       "    <tr style=\"text-align: right;\">\n",
       "      <th></th>\n",
       "      <th>IDCLIENTE</th>\n",
       "      <th>SEGMENTO</th>\n",
       "      <th>EDAD</th>\n",
       "      <th>PRODUCTO</th>\n",
       "    </tr>\n",
       "  </thead>\n",
       "  <tbody>\n",
       "    <tr>\n",
       "      <th>4329</th>\n",
       "      <td>15117</td>\n",
       "      <td>A2</td>\n",
       "      <td>MAYORES A 65 AÑOS</td>\n",
       "      <td>CTA &amp; TC</td>\n",
       "    </tr>\n",
       "    <tr>\n",
       "      <th>4330</th>\n",
       "      <td>15117</td>\n",
       "      <td>A2</td>\n",
       "      <td>MAYORES A 65 AÑOS</td>\n",
       "      <td>CTA &amp; TC</td>\n",
       "    </tr>\n",
       "    <tr>\n",
       "      <th>5193</th>\n",
       "      <td>240369</td>\n",
       "      <td>A3</td>\n",
       "      <td>MAYORES A 65 AÑOS</td>\n",
       "      <td>CTA</td>\n",
       "    </tr>\n",
       "    <tr>\n",
       "      <th>5194</th>\n",
       "      <td>240369</td>\n",
       "      <td>A3</td>\n",
       "      <td>MAYORES A 65 AÑOS</td>\n",
       "      <td>CTA</td>\n",
       "    </tr>\n",
       "    <tr>\n",
       "      <th>10226</th>\n",
       "      <td>86831</td>\n",
       "      <td>A2</td>\n",
       "      <td>MAYORES A 65 AÑOS</td>\n",
       "      <td>CTA &amp; TC</td>\n",
       "    </tr>\n",
       "    <tr>\n",
       "      <th>10227</th>\n",
       "      <td>86831</td>\n",
       "      <td>A2</td>\n",
       "      <td>MAYORES A 65 AÑOS</td>\n",
       "      <td>CTA &amp; TC</td>\n",
       "    </tr>\n",
       "    <tr>\n",
       "      <th>12232</th>\n",
       "      <td>180569</td>\n",
       "      <td>A3</td>\n",
       "      <td>MAYORES A 65 AÑOS</td>\n",
       "      <td>CTA</td>\n",
       "    </tr>\n",
       "    <tr>\n",
       "      <th>12233</th>\n",
       "      <td>180569</td>\n",
       "      <td>A3</td>\n",
       "      <td>MAYORES A 65 AÑOS</td>\n",
       "      <td>CTA</td>\n",
       "    </tr>\n",
       "    <tr>\n",
       "      <th>14027</th>\n",
       "      <td>77575</td>\n",
       "      <td>A3</td>\n",
       "      <td>MAYORES A 65 AÑOS</td>\n",
       "      <td>CTA</td>\n",
       "    </tr>\n",
       "    <tr>\n",
       "      <th>14028</th>\n",
       "      <td>77575</td>\n",
       "      <td>A3</td>\n",
       "      <td>MAYORES A 65 AÑOS</td>\n",
       "      <td>CTA</td>\n",
       "    </tr>\n",
       "    <tr>\n",
       "      <th>14794</th>\n",
       "      <td>93166</td>\n",
       "      <td>A3</td>\n",
       "      <td>MAYORES A 65 AÑOS</td>\n",
       "      <td>CTA</td>\n",
       "    </tr>\n",
       "    <tr>\n",
       "      <th>14795</th>\n",
       "      <td>93166</td>\n",
       "      <td>A3</td>\n",
       "      <td>MAYORES A 65 AÑOS</td>\n",
       "      <td>CTA</td>\n",
       "    </tr>\n",
       "    <tr>\n",
       "      <th>20164</th>\n",
       "      <td>254860</td>\n",
       "      <td>A2</td>\n",
       "      <td>OTROS NO IDENTIFICADOS</td>\n",
       "      <td>CTA</td>\n",
       "    </tr>\n",
       "    <tr>\n",
       "      <th>20165</th>\n",
       "      <td>254860</td>\n",
       "      <td>A2</td>\n",
       "      <td>OTROS NO IDENTIFICADOS</td>\n",
       "      <td>CTA</td>\n",
       "    </tr>\n",
       "  </tbody>\n",
       "</table>\n",
       "</div>"
      ],
      "text/plain": [
       "       IDCLIENTE SEGMENTO                    EDAD  PRODUCTO\n",
       "4329       15117       A2       MAYORES A 65 AÑOS  CTA & TC\n",
       "4330       15117       A2       MAYORES A 65 AÑOS  CTA & TC\n",
       "5193      240369       A3       MAYORES A 65 AÑOS       CTA\n",
       "5194      240369       A3       MAYORES A 65 AÑOS       CTA\n",
       "10226      86831       A2       MAYORES A 65 AÑOS  CTA & TC\n",
       "10227      86831       A2       MAYORES A 65 AÑOS  CTA & TC\n",
       "12232     180569       A3       MAYORES A 65 AÑOS       CTA\n",
       "12233     180569       A3       MAYORES A 65 AÑOS       CTA\n",
       "14027      77575       A3       MAYORES A 65 AÑOS       CTA\n",
       "14028      77575       A3       MAYORES A 65 AÑOS       CTA\n",
       "14794      93166       A3       MAYORES A 65 AÑOS       CTA\n",
       "14795      93166       A3       MAYORES A 65 AÑOS       CTA\n",
       "20164     254860       A2  OTROS NO IDENTIFICADOS       CTA\n",
       "20165     254860       A2  OTROS NO IDENTIFICADOS       CTA"
      ]
     },
     "execution_count": 3,
     "metadata": {},
     "output_type": "execute_result"
    }
   ],
   "source": [
    "# MOSTRAR LOS REGISTROS REPETIDOS\n",
    "clientes.loc[clientes.IDCLIENTE.duplicated(keep=False)]"
   ]
  },
  {
   "cell_type": "code",
   "execution_count": 4,
   "id": "a0edd94d",
   "metadata": {},
   "outputs": [],
   "source": [
    "# BORRAR LOS DATOS DUPLICADOS\n",
    "clientes.drop_duplicates(subset=[\"IDCLIENTE\"], inplace=True)"
   ]
  },
  {
   "cell_type": "code",
   "execution_count": 5,
   "id": "13467fd4",
   "metadata": {},
   "outputs": [
    {
     "name": "stdout",
     "output_type": "stream",
     "text": [
      "<class 'pandas.core.frame.DataFrame'>\n",
      "Int64Index: 31241 entries, 0 to 31247\n",
      "Data columns (total 4 columns):\n",
      " #   Column     Non-Null Count  Dtype \n",
      "---  ------     --------------  ----- \n",
      " 0   IDCLIENTE  31241 non-null  int64 \n",
      " 1   SEGMENTO   31241 non-null  object\n",
      " 2   EDAD       31241 non-null  object\n",
      " 3   PRODUCTO   31241 non-null  object\n",
      "dtypes: int64(1), object(3)\n",
      "memory usage: 1.2+ MB\n"
     ]
    }
   ],
   "source": [
    "# VISUALIZAR CANTIDAD DE DATOS UNICOS\n",
    "clientes.info()"
   ]
  },
  {
   "cell_type": "markdown",
   "id": "f7e81451",
   "metadata": {},
   "source": [
    "#### REVISAR DATOS FALTANTES"
   ]
  },
  {
   "cell_type": "code",
   "execution_count": 6,
   "id": "30b332b9",
   "metadata": {},
   "outputs": [
    {
     "data": {
      "text/plain": [
       "IDCLIENTE    0\n",
       "SEGMENTO     0\n",
       "EDAD         0\n",
       "PRODUCTO     0\n",
       "dtype: int64"
      ]
     },
     "execution_count": 6,
     "metadata": {},
     "output_type": "execute_result"
    }
   ],
   "source": [
    "clientes.isna().sum()"
   ]
  },
  {
   "cell_type": "code",
   "execution_count": 14,
   "id": "5b5e7d4d",
   "metadata": {},
   "outputs": [
    {
     "data": {
      "text/plain": [
       "array(['A3', 'A2', 'B1', 'A1', 'P2', 'P1', 'E2', 'E3', 'E1'], dtype=object)"
      ]
     },
     "execution_count": 14,
     "metadata": {},
     "output_type": "execute_result"
    }
   ],
   "source": [
    "clientes.SEGMENTO.unique()"
   ]
  },
  {
   "cell_type": "code",
   "execution_count": 15,
   "id": "4a4c1d5f",
   "metadata": {},
   "outputs": [
    {
     "data": {
      "text/plain": [
       "array(['36 A 45 AÑOS', 'EMPRESA', '46 A 65 AÑOS', '23 A 30 AÑOS',\n",
       "       '31 A 35 AÑOS', 'MAYORES A 65 AÑOS', 'OTROS NO IDENTIFICADOS',\n",
       "       '1 A 17 AÑOS', '18 A 22 AÑOS'], dtype=object)"
      ]
     },
     "execution_count": 15,
     "metadata": {},
     "output_type": "execute_result"
    }
   ],
   "source": [
    "clientes.EDAD.unique()"
   ]
  },
  {
   "cell_type": "code",
   "execution_count": 16,
   "id": "ae6059d5",
   "metadata": {},
   "outputs": [
    {
     "data": {
      "text/plain": [
       "array(['TC', 'CTA', 'CTA & TC'], dtype=object)"
      ]
     },
     "execution_count": 16,
     "metadata": {},
     "output_type": "execute_result"
    }
   ],
   "source": [
    "clientes.PRODUCTO.unique()"
   ]
  },
  {
   "cell_type": "markdown",
   "id": "065dd70c",
   "metadata": {},
   "source": [
    "#### VISUALIZAR CANTIDAD MAXIMA DE CARACTERES EN LAS COLUMNAS DE TEXTO"
   ]
  },
  {
   "cell_type": "markdown",
   "id": "03489181",
   "metadata": {},
   "source": [
    "Esto permite establecer la cantidad de caracteres maxima a almacenar en la BD"
   ]
  },
  {
   "cell_type": "code",
   "execution_count": 7,
   "id": "698e0454",
   "metadata": {},
   "outputs": [
    {
     "name": "stdout",
     "output_type": "stream",
     "text": [
      "Maxima longitud de caracteres en SEGMENTO => 2\n"
     ]
    }
   ],
   "source": [
    "print(\"Maxima longitud de caracteres en SEGMENTO =>\", clientes.SEGMENTO.str.len().max() )"
   ]
  },
  {
   "cell_type": "code",
   "execution_count": 8,
   "id": "7c35d5b4",
   "metadata": {},
   "outputs": [
    {
     "name": "stdout",
     "output_type": "stream",
     "text": [
      "Maxima longitud de caracteres en EDAD => 22\n"
     ]
    }
   ],
   "source": [
    "print(\"Maxima longitud de caracteres en EDAD =>\", clientes.EDAD.str.len().max() )"
   ]
  },
  {
   "cell_type": "code",
   "execution_count": 9,
   "id": "8be28983",
   "metadata": {},
   "outputs": [
    {
     "name": "stdout",
     "output_type": "stream",
     "text": [
      "Maxima longitud de caracteres en PRODUCTO => 8\n"
     ]
    }
   ],
   "source": [
    "print(\"Maxima longitud de caracteres en PRODUCTO =>\", clientes.PRODUCTO.str.len().max() )"
   ]
  },
  {
   "cell_type": "code",
   "execution_count": 10,
   "id": "d4edf973",
   "metadata": {},
   "outputs": [],
   "source": [
    "clientes.to_csv(\"clean-data/CLIENTES.csv\", sep=\",\", encoding=\"utf-8-sig\", index=False)"
   ]
  },
  {
   "cell_type": "markdown",
   "id": "1b048867",
   "metadata": {},
   "source": [
    "# DATOS DE POLIZAS"
   ]
  },
  {
   "cell_type": "code",
   "execution_count": 44,
   "id": "06f6a4b1",
   "metadata": {},
   "outputs": [
    {
     "name": "stdout",
     "output_type": "stream",
     "text": [
      "<class 'pandas.core.frame.DataFrame'>\n",
      "RangeIndex: 82004 entries, 0 to 82003\n",
      "Data columns (total 9 columns):\n",
      " #   Column            Non-Null Count  Dtype  \n",
      "---  ------            --------------  -----  \n",
      " 0   FECCHAEMISION     82004 non-null  int64  \n",
      " 1   IDCLIENTE         82004 non-null  int64  \n",
      " 2   CANAL             82004 non-null  object \n",
      " 3   MONTO             82004 non-null  float64\n",
      " 4   NUMPOLIZA         82004 non-null  object \n",
      " 5   TIPO              82004 non-null  object \n",
      " 6   FECHAVENCIMIENTO  82004 non-null  int64  \n",
      " 7   ESTADOACTUAL      82004 non-null  object \n",
      " 8   FECHACANCELACION  82004 non-null  int64  \n",
      "dtypes: float64(1), int64(4), object(4)\n",
      "memory usage: 5.6+ MB\n"
     ]
    }
   ],
   "source": [
    "# CARGAR DATOS\n",
    "polizas = pd.read_csv(\"raw-data/POLIZAS.csv\", sep=\",\")\n",
    "polizas.info()"
   ]
  },
  {
   "cell_type": "code",
   "execution_count": 45,
   "id": "9e94a680",
   "metadata": {},
   "outputs": [
    {
     "data": {
      "text/html": [
       "<div>\n",
       "<style scoped>\n",
       "    .dataframe tbody tr th:only-of-type {\n",
       "        vertical-align: middle;\n",
       "    }\n",
       "\n",
       "    .dataframe tbody tr th {\n",
       "        vertical-align: top;\n",
       "    }\n",
       "\n",
       "    .dataframe thead th {\n",
       "        text-align: right;\n",
       "    }\n",
       "</style>\n",
       "<table border=\"1\" class=\"dataframe\">\n",
       "  <thead>\n",
       "    <tr style=\"text-align: right;\">\n",
       "      <th></th>\n",
       "      <th>FECCHAEMISION</th>\n",
       "      <th>IDCLIENTE</th>\n",
       "      <th>CANAL</th>\n",
       "      <th>MONTO</th>\n",
       "      <th>NUMPOLIZA</th>\n",
       "      <th>TIPO</th>\n",
       "      <th>FECHAVENCIMIENTO</th>\n",
       "      <th>ESTADOACTUAL</th>\n",
       "      <th>FECHACANCELACION</th>\n",
       "    </tr>\n",
       "  </thead>\n",
       "  <tbody>\n",
       "    <tr>\n",
       "      <th>0</th>\n",
       "      <td>20220112</td>\n",
       "      <td>39377</td>\n",
       "      <td>WEB</td>\n",
       "      <td>120.00</td>\n",
       "      <td>P-59425709</td>\n",
       "      <td>NUEVA</td>\n",
       "      <td>20230112</td>\n",
       "      <td>P</td>\n",
       "      <td>20230112</td>\n",
       "    </tr>\n",
       "    <tr>\n",
       "      <th>1</th>\n",
       "      <td>20220112</td>\n",
       "      <td>4246425</td>\n",
       "      <td>WEB</td>\n",
       "      <td>21.00</td>\n",
       "      <td>P-59425710</td>\n",
       "      <td>NUEVA</td>\n",
       "      <td>20220425</td>\n",
       "      <td>P</td>\n",
       "      <td>20220425</td>\n",
       "    </tr>\n",
       "    <tr>\n",
       "      <th>2</th>\n",
       "      <td>20220112</td>\n",
       "      <td>1347458</td>\n",
       "      <td>WEB</td>\n",
       "      <td>63.33</td>\n",
       "      <td>P-59425711</td>\n",
       "      <td>NUEVA</td>\n",
       "      <td>20230109</td>\n",
       "      <td>P</td>\n",
       "      <td>20230109</td>\n",
       "    </tr>\n",
       "    <tr>\n",
       "      <th>3</th>\n",
       "      <td>20220112</td>\n",
       "      <td>335442</td>\n",
       "      <td>WEB</td>\n",
       "      <td>2100.00</td>\n",
       "      <td>P-59425712</td>\n",
       "      <td>NUEVA</td>\n",
       "      <td>20220412</td>\n",
       "      <td>P</td>\n",
       "      <td>20220412</td>\n",
       "    </tr>\n",
       "    <tr>\n",
       "      <th>4</th>\n",
       "      <td>20220112</td>\n",
       "      <td>590057</td>\n",
       "      <td>ALT</td>\n",
       "      <td>600.00</td>\n",
       "      <td>P-59425713</td>\n",
       "      <td>RENOVACION</td>\n",
       "      <td>20230112</td>\n",
       "      <td>P</td>\n",
       "      <td>20230112</td>\n",
       "    </tr>\n",
       "  </tbody>\n",
       "</table>\n",
       "</div>"
      ],
      "text/plain": [
       "   FECCHAEMISION  IDCLIENTE CANAL    MONTO   NUMPOLIZA        TIPO  \\\n",
       "0       20220112      39377   WEB   120.00  P-59425709       NUEVA   \n",
       "1       20220112    4246425   WEB    21.00  P-59425710       NUEVA   \n",
       "2       20220112    1347458   WEB    63.33  P-59425711       NUEVA   \n",
       "3       20220112     335442   WEB  2100.00  P-59425712       NUEVA   \n",
       "4       20220112     590057   ALT   600.00  P-59425713  RENOVACION   \n",
       "\n",
       "   FECHAVENCIMIENTO ESTADOACTUAL  FECHACANCELACION  \n",
       "0          20230112            P          20230112  \n",
       "1          20220425            P          20220425  \n",
       "2          20230109            P          20230109  \n",
       "3          20220412            P          20220412  \n",
       "4          20230112            P          20230112  "
      ]
     },
     "execution_count": 45,
     "metadata": {},
     "output_type": "execute_result"
    }
   ],
   "source": [
    "# VISUALIZAR DATA\n",
    "polizas.head()"
   ]
  },
  {
   "cell_type": "code",
   "execution_count": 46,
   "id": "fb9a4e9b",
   "metadata": {},
   "outputs": [],
   "source": [
    "# TRANSFORMAR LAS FECHAS EN FORMATO FECHA YYYY-MM-DD\n",
    "date_cols = [\"FECCHAEMISION\", \"FECHAVENCIMIENTO\", \"FECHACANCELACION\" ] \n",
    "\n",
    "for col in date_cols:\n",
    "    polizas[col] = pd.to_datetime(polizas[col], format=\"%Y%m%d\", errors=\"coerce\")"
   ]
  },
  {
   "cell_type": "code",
   "execution_count": 47,
   "id": "70d2978e",
   "metadata": {},
   "outputs": [
    {
     "data": {
      "text/plain": [
       "FECCHAEMISION           0\n",
       "IDCLIENTE               0\n",
       "CANAL                   0\n",
       "MONTO                   0\n",
       "NUMPOLIZA               0\n",
       "TIPO                    0\n",
       "FECHAVENCIMIENTO        0\n",
       "ESTADOACTUAL            0\n",
       "FECHACANCELACION    16614\n",
       "dtype: int64"
      ]
     },
     "execution_count": 47,
     "metadata": {},
     "output_type": "execute_result"
    }
   ],
   "source": [
    "# VISUALIZAR VALORES NULOS\n",
    "polizas.isnull().sum()"
   ]
  },
  {
   "cell_type": "code",
   "execution_count": 52,
   "id": "0e99254f",
   "metadata": {},
   "outputs": [],
   "source": [
    "# LABELING CANAL\n",
    "polizas.CANAL = np.where(polizas.CANAL == \"WEB\", \"ONLINE\", \"PRESENCIAL\")"
   ]
  },
  {
   "cell_type": "code",
   "execution_count": 53,
   "id": "34ba48f0",
   "metadata": {},
   "outputs": [
    {
     "data": {
      "text/plain": [
       "array(['ONLINE', 'PRESENCIAL'], dtype=object)"
      ]
     },
     "execution_count": 53,
     "metadata": {},
     "output_type": "execute_result"
    }
   ],
   "source": [
    "polizas.CANAL.unique()"
   ]
  },
  {
   "cell_type": "code",
   "execution_count": 76,
   "id": "25e31bf4",
   "metadata": {},
   "outputs": [
    {
     "data": {
      "text/plain": [
       "array(['NUEVA', 'RENOVACION'], dtype=object)"
      ]
     },
     "execution_count": 76,
     "metadata": {},
     "output_type": "execute_result"
    }
   ],
   "source": [
    "polizas.TIPO.unique()"
   ]
  },
  {
   "cell_type": "code",
   "execution_count": 73,
   "id": "916a0aed",
   "metadata": {},
   "outputs": [
    {
     "name": "stdout",
     "output_type": "stream",
     "text": [
      "Maxima longitud de caracteres en CANAL => 10\n",
      "Maxima longitud de caracteres en NUMPOLIZA => 10\n",
      "Maxima longitud de caracteres en TIPO => 10\n",
      "Maxima longitud de caracteres en ESTADOACTUAL => 1\n"
     ]
    }
   ],
   "source": [
    "cat_cols = polizas.copy().select_dtypes(exclude=['number','datetime']).columns\n",
    "\n",
    "for col in cat_cols:\n",
    "    print(f\"Maxima longitud de caracteres en {col} =>\", polizas[col].str.len().max() )"
   ]
  },
  {
   "cell_type": "code",
   "execution_count": 74,
   "id": "60c03812",
   "metadata": {},
   "outputs": [],
   "source": [
    "# EXPORTAR DATOS LIMPIOS\n",
    "polizas.to_csv(\"clean-data/POLIZAS.csv\", sep=\",\", encoding=\"utf-8-sig\", index=False)"
   ]
  }
 ],
 "metadata": {
  "kernelspec": {
   "display_name": "Python 3 (ipykernel)",
   "language": "python",
   "name": "python3"
  },
  "language_info": {
   "codemirror_mode": {
    "name": "ipython",
    "version": 3
   },
   "file_extension": ".py",
   "mimetype": "text/x-python",
   "name": "python",
   "nbconvert_exporter": "python",
   "pygments_lexer": "ipython3",
   "version": "3.9.12"
  }
 },
 "nbformat": 4,
 "nbformat_minor": 5
}
