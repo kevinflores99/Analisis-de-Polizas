{
 "cells": [
  {
   "cell_type": "code",
   "execution_count": 2,
   "id": "14dcf54b",
   "metadata": {},
   "outputs": [],
   "source": [
    "import pandas as pd\n",
    "import numpy as np"
   ]
  },
  {
   "cell_type": "markdown",
   "id": "dc694b2d",
   "metadata": {},
   "source": [
    "# DATOS DE CLIENTES"
   ]
  },
  {
   "cell_type": "markdown",
   "id": "0dbca269",
   "metadata": {},
   "source": [
    "#### Carga de datos"
   ]
  },
  {
   "cell_type": "code",
   "execution_count": 3,
   "id": "4740e180",
   "metadata": {},
   "outputs": [
    {
     "name": "stdout",
     "output_type": "stream",
     "text": [
      "<class 'pandas.core.frame.DataFrame'>\n",
      "RangeIndex: 31248 entries, 0 to 31247\n",
      "Data columns (total 4 columns):\n",
      " #   Column     Non-Null Count  Dtype \n",
      "---  ------     --------------  ----- \n",
      " 0   IDCLIENTE  31248 non-null  int64 \n",
      " 1   SEGMENTO   31248 non-null  object\n",
      " 2   EDAD       31248 non-null  object\n",
      " 3   PRODUCTO   31248 non-null  object\n",
      "dtypes: int64(1), object(3)\n",
      "memory usage: 976.6+ KB\n"
     ]
    }
   ],
   "source": [
    "clientes = pd.read_csv(\"raw-data/CLIENTES.csv\", sep=\",\")\n",
    "clientes.info()"
   ]
  },
  {
   "cell_type": "markdown",
   "id": "d1d1120c",
   "metadata": {},
   "source": [
    "#### Revisar duplicidad"
   ]
  },
  {
   "cell_type": "code",
   "execution_count": 13,
   "id": "2554b383",
   "metadata": {},
   "outputs": [
    {
     "data": {
      "text/html": [
       "<div>\n",
       "<style scoped>\n",
       "    .dataframe tbody tr th:only-of-type {\n",
       "        vertical-align: middle;\n",
       "    }\n",
       "\n",
       "    .dataframe tbody tr th {\n",
       "        vertical-align: top;\n",
       "    }\n",
       "\n",
       "    .dataframe thead th {\n",
       "        text-align: right;\n",
       "    }\n",
       "</style>\n",
       "<table border=\"1\" class=\"dataframe\">\n",
       "  <thead>\n",
       "    <tr style=\"text-align: right;\">\n",
       "      <th></th>\n",
       "      <th>IDCLIENTE</th>\n",
       "      <th>SEGMENTO</th>\n",
       "      <th>EDAD</th>\n",
       "      <th>PRODUCTO</th>\n",
       "    </tr>\n",
       "  </thead>\n",
       "  <tbody>\n",
       "    <tr>\n",
       "      <th>4329</th>\n",
       "      <td>15117</td>\n",
       "      <td>A2</td>\n",
       "      <td>MAYORES A 65 AÑOS</td>\n",
       "      <td>CTA &amp; TC</td>\n",
       "    </tr>\n",
       "    <tr>\n",
       "      <th>4330</th>\n",
       "      <td>15117</td>\n",
       "      <td>A2</td>\n",
       "      <td>MAYORES A 65 AÑOS</td>\n",
       "      <td>CTA &amp; TC</td>\n",
       "    </tr>\n",
       "    <tr>\n",
       "      <th>5193</th>\n",
       "      <td>240369</td>\n",
       "      <td>A3</td>\n",
       "      <td>MAYORES A 65 AÑOS</td>\n",
       "      <td>CTA</td>\n",
       "    </tr>\n",
       "    <tr>\n",
       "      <th>5194</th>\n",
       "      <td>240369</td>\n",
       "      <td>A3</td>\n",
       "      <td>MAYORES A 65 AÑOS</td>\n",
       "      <td>CTA</td>\n",
       "    </tr>\n",
       "    <tr>\n",
       "      <th>10226</th>\n",
       "      <td>86831</td>\n",
       "      <td>A2</td>\n",
       "      <td>MAYORES A 65 AÑOS</td>\n",
       "      <td>CTA &amp; TC</td>\n",
       "    </tr>\n",
       "    <tr>\n",
       "      <th>10227</th>\n",
       "      <td>86831</td>\n",
       "      <td>A2</td>\n",
       "      <td>MAYORES A 65 AÑOS</td>\n",
       "      <td>CTA &amp; TC</td>\n",
       "    </tr>\n",
       "    <tr>\n",
       "      <th>12232</th>\n",
       "      <td>180569</td>\n",
       "      <td>A3</td>\n",
       "      <td>MAYORES A 65 AÑOS</td>\n",
       "      <td>CTA</td>\n",
       "    </tr>\n",
       "    <tr>\n",
       "      <th>12233</th>\n",
       "      <td>180569</td>\n",
       "      <td>A3</td>\n",
       "      <td>MAYORES A 65 AÑOS</td>\n",
       "      <td>CTA</td>\n",
       "    </tr>\n",
       "    <tr>\n",
       "      <th>14027</th>\n",
       "      <td>77575</td>\n",
       "      <td>A3</td>\n",
       "      <td>MAYORES A 65 AÑOS</td>\n",
       "      <td>CTA</td>\n",
       "    </tr>\n",
       "    <tr>\n",
       "      <th>14028</th>\n",
       "      <td>77575</td>\n",
       "      <td>A3</td>\n",
       "      <td>MAYORES A 65 AÑOS</td>\n",
       "      <td>CTA</td>\n",
       "    </tr>\n",
       "    <tr>\n",
       "      <th>14794</th>\n",
       "      <td>93166</td>\n",
       "      <td>A3</td>\n",
       "      <td>MAYORES A 65 AÑOS</td>\n",
       "      <td>CTA</td>\n",
       "    </tr>\n",
       "    <tr>\n",
       "      <th>14795</th>\n",
       "      <td>93166</td>\n",
       "      <td>A3</td>\n",
       "      <td>MAYORES A 65 AÑOS</td>\n",
       "      <td>CTA</td>\n",
       "    </tr>\n",
       "    <tr>\n",
       "      <th>20164</th>\n",
       "      <td>254860</td>\n",
       "      <td>A2</td>\n",
       "      <td>OTROS NO IDENTIFICADOS</td>\n",
       "      <td>CTA</td>\n",
       "    </tr>\n",
       "    <tr>\n",
       "      <th>20165</th>\n",
       "      <td>254860</td>\n",
       "      <td>A2</td>\n",
       "      <td>OTROS NO IDENTIFICADOS</td>\n",
       "      <td>CTA</td>\n",
       "    </tr>\n",
       "  </tbody>\n",
       "</table>\n",
       "</div>"
      ],
      "text/plain": [
       "       IDCLIENTE SEGMENTO                    EDAD  PRODUCTO\n",
       "4329       15117       A2       MAYORES A 65 AÑOS  CTA & TC\n",
       "4330       15117       A2       MAYORES A 65 AÑOS  CTA & TC\n",
       "5193      240369       A3       MAYORES A 65 AÑOS       CTA\n",
       "5194      240369       A3       MAYORES A 65 AÑOS       CTA\n",
       "10226      86831       A2       MAYORES A 65 AÑOS  CTA & TC\n",
       "10227      86831       A2       MAYORES A 65 AÑOS  CTA & TC\n",
       "12232     180569       A3       MAYORES A 65 AÑOS       CTA\n",
       "12233     180569       A3       MAYORES A 65 AÑOS       CTA\n",
       "14027      77575       A3       MAYORES A 65 AÑOS       CTA\n",
       "14028      77575       A3       MAYORES A 65 AÑOS       CTA\n",
       "14794      93166       A3       MAYORES A 65 AÑOS       CTA\n",
       "14795      93166       A3       MAYORES A 65 AÑOS       CTA\n",
       "20164     254860       A2  OTROS NO IDENTIFICADOS       CTA\n",
       "20165     254860       A2  OTROS NO IDENTIFICADOS       CTA"
      ]
     },
     "execution_count": 13,
     "metadata": {},
     "output_type": "execute_result"
    }
   ],
   "source": [
    "# MOSTRAR LOS REGISTROS REPETIDOS\n",
    "clientes.loc[clientes.IDCLIENTE.duplicated(keep=False)]"
   ]
  },
  {
   "cell_type": "code",
   "execution_count": 14,
   "id": "a0edd94d",
   "metadata": {},
   "outputs": [],
   "source": [
    "# BORRAR LOS DATOS DUPLICADOS\n",
    "clientes.drop_duplicates(subset=[\"IDCLIENTE\"], inplace=True)"
   ]
  },
  {
   "cell_type": "code",
   "execution_count": 15,
   "id": "36973ce7",
   "metadata": {},
   "outputs": [
    {
     "name": "stdout",
     "output_type": "stream",
     "text": [
      "<class 'pandas.core.frame.DataFrame'>\n",
      "Int64Index: 31241 entries, 0 to 31247\n",
      "Data columns (total 4 columns):\n",
      " #   Column     Non-Null Count  Dtype \n",
      "---  ------     --------------  ----- \n",
      " 0   IDCLIENTE  31241 non-null  int64 \n",
      " 1   SEGMENTO   31241 non-null  object\n",
      " 2   EDAD       31241 non-null  object\n",
      " 3   PRODUCTO   31241 non-null  object\n",
      "dtypes: int64(1), object(3)\n",
      "memory usage: 1.2+ MB\n"
     ]
    }
   ],
   "source": [
    "# VISUALIZAR CANTIDAD DE DATOS UNICOS\n",
    "clientes.info()"
   ]
  },
  {
   "cell_type": "markdown",
   "id": "e51041d8",
   "metadata": {},
   "source": [
    "#### VISUALIZAR CANTIDAD MAXIMA DE CARACTER"
   ]
  },
  {
   "cell_type": "code",
   "execution_count": 28,
   "id": "698e0454",
   "metadata": {},
   "outputs": [
    {
     "name": "stdout",
     "output_type": "stream",
     "text": [
      "Maxima longitud de caracteres en SEGMENTO => 2\n"
     ]
    }
   ],
   "source": [
    "print(\"Maxima longitud de caracteres en SEGMENTO =>\", clientes.SEGMENTO.str.len().max() )"
   ]
  },
  {
   "cell_type": "code",
   "execution_count": 27,
   "id": "7c35d5b4",
   "metadata": {},
   "outputs": [
    {
     "name": "stdout",
     "output_type": "stream",
     "text": [
      "Maxima longitud de caracteres en EDAD => 22\n"
     ]
    }
   ],
   "source": [
    "print(\"Maxima longitud de caracteres en EDAD =>\", clientes.EDAD.str.len().max() )"
   ]
  },
  {
   "cell_type": "code",
   "execution_count": 26,
   "id": "8be28983",
   "metadata": {},
   "outputs": [
    {
     "name": "stdout",
     "output_type": "stream",
     "text": [
      "Maxima longitud de caracteres en PRODUCTO => 8\n"
     ]
    }
   ],
   "source": [
    "print(\"Maxima longitud de caracteres en PRODUCTO =>\", clientes.PRODUCTO.str.len().max() )"
   ]
  },
  {
   "cell_type": "code",
   "execution_count": 33,
   "id": "d4edf973",
   "metadata": {},
   "outputs": [],
   "source": [
    "clientes.to_csv(r\"C:\\Users\\kevin\\Documents\\prubea-banco-gye\\clean-data\\CLIENTES.csv\", sep=\",\", encoding=\"utf-8-sig\", index=False)"
   ]
  },
  {
   "cell_type": "markdown",
   "id": "1b048867",
   "metadata": {},
   "source": [
    "# DATOS DE POLIZAS"
   ]
  },
  {
   "cell_type": "code",
   "execution_count": null,
   "id": "06f6a4b1",
   "metadata": {},
   "outputs": [],
   "source": []
  }
 ],
 "metadata": {
  "kernelspec": {
   "display_name": "Python 3 (ipykernel)",
   "language": "python",
   "name": "python3"
  },
  "language_info": {
   "codemirror_mode": {
    "name": "ipython",
    "version": 3
   },
   "file_extension": ".py",
   "mimetype": "text/x-python",
   "name": "python",
   "nbconvert_exporter": "python",
   "pygments_lexer": "ipython3",
   "version": "3.9.12"
  }
 },
 "nbformat": 4,
 "nbformat_minor": 5
}
